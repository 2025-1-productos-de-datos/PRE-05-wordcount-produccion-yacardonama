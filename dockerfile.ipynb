{
 "cells": [
  {
   "cell_type": "markdown",
   "id": "1172ecb2",
   "metadata": {},
   "source": [
    "Dockerfile"
   ]
  },
  {
   "cell_type": "code",
   "execution_count": null,
   "id": "fd6e2544",
   "metadata": {},
   "outputs": [],
   "source": [
    "#\n",
    "# docker build -t wordcount-app . ##PARA CREARL LA IMANGEN EN DOCKER\n",
    "# docker run --rm -v \"$PWD/data/input:/data/input/\" -v \"$PWD/data/output:/data/output/\" wordcount-app\n",
    "#\n",
    "FROM python:3.11-slim\n",
    "WORKDIR /app\n",
    "COPY . .\n",
    "RUN pip install -e .\n",
    "# python3 -m homework data/input data/output\n",
    "CMD [\"python\", \"-m\", \"homework\", \"/data/input/\", \"/data/output/\"]\n",
    "\n",
    "# docker run --rm -v \"$PWD/data/input:/data/input/\" -v \"$PWD/data/output:/data/output/\" wordcount-app \n",
    "# ##REVISAR PWD PARA WINDOWS, PUES PWD ES PARA LINOX\n",
    "# Puede ser en windows docker run --rm -v \"%cd%\\data\\input:/data/input\" -v \"%cd%\\data\\output:/data/output\" wordcount-app"
   ]
  },
  {
   "cell_type": "markdown",
   "id": "4685e0ad",
   "metadata": {},
   "source": [
    "dockerignore"
   ]
  },
  {
   "cell_type": "code",
   "execution_count": null,
   "id": "c59a100b",
   "metadata": {},
   "outputs": [],
   "source": [
    "#está en dockeringore, no hay problema"
   ]
  }
 ],
 "metadata": {
  "kernelspec": {
   "display_name": ".venv",
   "language": "python",
   "name": "python3"
  },
  "language_info": {
   "name": "python",
   "version": "3.10.9"
  }
 },
 "nbformat": 4,
 "nbformat_minor": 5
}
